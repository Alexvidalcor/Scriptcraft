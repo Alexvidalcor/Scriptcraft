{
 "cells": [
  {
   "cell_type": "markdown",
   "metadata": {},
   "source": [
    "### Third party libraries"
   ]
  },
  {
   "cell_type": "code",
   "execution_count": null,
   "metadata": {},
   "outputs": [],
   "source": [
    "import pandas as pd"
   ]
  },
  {
   "cell_type": "markdown",
   "metadata": {},
   "source": [
    "### Main vars"
   ]
  },
  {
   "cell_type": "code",
   "execution_count": null,
   "metadata": {},
   "outputs": [],
   "source": [
    "logPath = \"Scriptcraft-music_logs.csv\""
   ]
  },
  {
   "cell_type": "markdown",
   "metadata": {},
   "source": [
    "### Logs load"
   ]
  },
  {
   "cell_type": "markdown",
   "metadata": {},
   "source": [
    "Dataframe creation"
   ]
  },
  {
   "cell_type": "code",
   "execution_count": null,
   "metadata": {},
   "outputs": [],
   "source": [
    "df = pd.read_csv(logPath)"
   ]
  },
  {
   "cell_type": "markdown",
   "metadata": {},
   "source": [
    "## Analysis"
   ]
  },
  {
   "cell_type": "markdown",
   "metadata": {},
   "source": [
    "### Files OK"
   ]
  },
  {
   "cell_type": "code",
   "execution_count": null,
   "metadata": {},
   "outputs": [],
   "source": [
    "print(f'Total OK found: {len(df[df[\"Result\"] == \"OK\"])}')"
   ]
  },
  {
   "cell_type": "markdown",
   "metadata": {},
   "source": [
    "### Files NOOK"
   ]
  },
  {
   "cell_type": "markdown",
   "metadata": {},
   "source": [
    "Total NOOK - General"
   ]
  },
  {
   "cell_type": "code",
   "execution_count": null,
   "metadata": {},
   "outputs": [],
   "source": [
    "print(f'Total NOOK found: {len(df[df[\"Result\"] == \"NOOK\"])}')\n",
    "df[df[\"Result\"] == \"NOOK\"].head(12)"
   ]
  },
  {
   "cell_type": "markdown",
   "metadata": {},
   "source": [
    "Total NOOK - IndexError"
   ]
  },
  {
   "cell_type": "code",
   "execution_count": null,
   "metadata": {},
   "outputs": [],
   "source": [
    "print(f'IndexError found: {len(df[(df[\"Result\"] == \"NOOK\") & (df[\"Error\"] == \"IndexError\")])}')\n",
    "df[(df[\"Result\"] == \"NOOK\") & (df[\"Error\"] == \"IndexError\")].head(3)"
   ]
  },
  {
   "cell_type": "markdown",
   "metadata": {},
   "source": [
    "Total NOOK - HeaderNotFoundError"
   ]
  },
  {
   "cell_type": "code",
   "execution_count": null,
   "metadata": {},
   "outputs": [],
   "source": [
    "print(f'HeaderNotFoundError found: {len(df[(df[\"Result\"] == \"NOOK\") & (df[\"Error\"] == \"HeaderNotFoundError\")])}')\n",
    "df[(df[\"Result\"] == \"NOOK\") & (df[\"Error\"] == \"HeaderNotFoundError\")].head(3)"
   ]
  },
  {
   "cell_type": "markdown",
   "metadata": {},
   "source": [
    "Total NOOK - TypeError"
   ]
  },
  {
   "cell_type": "code",
   "execution_count": null,
   "metadata": {},
   "outputs": [],
   "source": [
    "print(f'TypeError found: {len(df[(df[\"Result\"] == \"NOOK\") & (df[\"Error\"] == \"TypeError\")])}')\n",
    "df[(df[\"Result\"] == \"NOOK\") & (df[\"Error\"] == \"TypeError\")].head(3)"
   ]
  },
  {
   "cell_type": "markdown",
   "metadata": {},
   "source": [
    "Total NOOK - UtilError"
   ]
  },
  {
   "cell_type": "code",
   "execution_count": null,
   "metadata": {},
   "outputs": [],
   "source": [
    "print(f'UtilErrors found: {len(df[(df[\"Result\"] == \"NOOK\") & (df[\"Error\"] == \"UtilError\")])}')\n",
    "df[(df[\"Result\"] == \"NOOK\") & (df[\"Error\"] == \"UtilError\")].head(3)"
   ]
  },
  {
   "cell_type": "markdown",
   "metadata": {},
   "source": [
    "Total NOOK - MP4StreamInfoError"
   ]
  },
  {
   "cell_type": "code",
   "execution_count": null,
   "metadata": {},
   "outputs": [],
   "source": [
    "print(f'MP4StreamInfoError found: {len(df[(df[\"Result\"] == \"NOOK\") & (df[\"Error\"] == \"MP4StreamInfoError\")])}')\n",
    "df[(df[\"Result\"] == \"NOOK\") & (df[\"Error\"] == \"MP4StreamInfoError\")].head(3)"
   ]
  },
  {
   "cell_type": "markdown",
   "metadata": {},
   "source": [
    "Total NOOK - ASFError"
   ]
  },
  {
   "cell_type": "code",
   "execution_count": null,
   "metadata": {},
   "outputs": [],
   "source": [
    "print(f'ASFError found: {len(df[(df[\"Result\"] == \"NOOK\") & (df[\"Error\"] == \"ASFError\")])}')\n",
    "df[(df[\"Result\"] == \"NOOK\") & (df[\"Error\"] == \"ASFError\")].head(3)"
   ]
  },
  {
   "cell_type": "markdown",
   "metadata": {},
   "source": [
    "Total NOOK - MP4error"
   ]
  },
  {
   "cell_type": "code",
   "execution_count": null,
   "metadata": {},
   "outputs": [],
   "source": [
    "print(f'MP4error found: {len(df[(df[\"Result\"] == \"NOOK\") & (df[\"Error\"] == \"MP4error\")])}')\n",
    "df[(df[\"Result\"] == \"NOOK\") & (df[\"Error\"] == \"MP4error\")].head(3)"
   ]
  },
  {
   "cell_type": "markdown",
   "metadata": {},
   "source": [
    "Total NOOK - AACerror"
   ]
  },
  {
   "cell_type": "code",
   "execution_count": null,
   "metadata": {},
   "outputs": [],
   "source": [
    "print(f'AACerror found: {len(df[(df[\"Result\"] == \"NOOK\") & (df[\"Error\"] == \"AACerror\")])}')\n",
    "df[(df[\"Result\"] == \"NOOK\") & (df[\"Error\"] == \"AACerror\")].head(3)"
   ]
  },
  {
   "cell_type": "markdown",
   "metadata": {},
   "source": [
    "Total NOOK - OGGerror"
   ]
  },
  {
   "cell_type": "code",
   "execution_count": null,
   "metadata": {},
   "outputs": [],
   "source": [
    "print(f'OGGerror found: {len(df[(df[\"Result\"] == \"NOOK\") & (df[\"Error\"] == \"OGGerror\")])}')\n",
    "df[(df[\"Result\"] == \"NOOK\") & (df[\"Error\"] == \"OGGerror\")].head(3)"
   ]
  },
  {
   "cell_type": "markdown",
   "metadata": {},
   "source": [
    "Total NOOK - Exception"
   ]
  },
  {
   "cell_type": "code",
   "execution_count": null,
   "metadata": {},
   "outputs": [],
   "source": [
    "print(f'Exception found: {len(df[(df[\"Result\"] == \"NOOK\") & (df[\"Error\"] == \"Exception\")])}')\n",
    "df[(df[\"Result\"] == \"NOOK\") & (df[\"Error\"] == \"Exception\")].head(3)"
   ]
  },
  {
   "cell_type": "markdown",
   "metadata": {},
   "source": [
    "### Files CORRECTED"
   ]
  },
  {
   "cell_type": "markdown",
   "metadata": {},
   "source": [
    "Total CORRECTED - General"
   ]
  },
  {
   "cell_type": "code",
   "execution_count": null,
   "metadata": {},
   "outputs": [],
   "source": [
    "print(f'Total corrected found: {len(df[df[\"Result\"] == \"CORRECTED\"])}')\n",
    "df[df[\"Result\"] == \"CORRECTED\"].head(3)"
   ]
  },
  {
   "cell_type": "markdown",
   "metadata": {},
   "source": [
    "Total CORRECTED - TypeError"
   ]
  },
  {
   "cell_type": "code",
   "execution_count": null,
   "metadata": {},
   "outputs": [],
   "source": [
    "print(f'Exception found: {len(df[(df[\"Result\"] == \"CORRECTED\") & (df[\"Error\"] == \"TypeError\")])}')\n",
    "df[(df[\"Result\"] == \"CORRECTED\") & (df[\"Error\"] == \"TypeError\")].head(3)"
   ]
  }
 ],
 "metadata": {
  "kernelspec": {
   "display_name": ".venv",
   "language": "python",
   "name": "python3"
  },
  "language_info": {
   "codemirror_mode": {
    "name": "ipython",
    "version": 3
   },
   "file_extension": ".py",
   "mimetype": "text/x-python",
   "name": "python",
   "nbconvert_exporter": "python",
   "pygments_lexer": "ipython3",
   "version": "3.9.2"
  },
  "orig_nbformat": 4
 },
 "nbformat": 4,
 "nbformat_minor": 2
}
